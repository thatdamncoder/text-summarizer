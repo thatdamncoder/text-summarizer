{
 "cells": [
  {
   "cell_type": "code",
   "execution_count": 1,
   "id": "4a718379",
   "metadata": {},
   "outputs": [
    {
     "name": "stdout",
     "output_type": "stream",
     "text": [
      "Defaulting to user installation because normal site-packages is not writeable\n",
      "Collecting rake-nltk\n",
      "  Downloading rake_nltk-1.0.6-py3-none-any.whl (9.1 kB)\n",
      "Requirement already satisfied: nltk<4.0.0,>=3.6.2 in c:\\programdata\\anaconda3\\lib\\site-packages (from rake-nltk) (3.8.1)\n",
      "Requirement already satisfied: click in c:\\programdata\\anaconda3\\lib\\site-packages (from nltk<4.0.0,>=3.6.2->rake-nltk) (8.0.4)\n",
      "Requirement already satisfied: joblib in c:\\programdata\\anaconda3\\lib\\site-packages (from nltk<4.0.0,>=3.6.2->rake-nltk) (1.2.0)\n",
      "Requirement already satisfied: regex>=2021.8.3 in c:\\programdata\\anaconda3\\lib\\site-packages (from nltk<4.0.0,>=3.6.2->rake-nltk) (2022.7.9)\n",
      "Requirement already satisfied: tqdm in c:\\programdata\\anaconda3\\lib\\site-packages (from nltk<4.0.0,>=3.6.2->rake-nltk) (4.65.0)\n",
      "Requirement already satisfied: colorama in c:\\programdata\\anaconda3\\lib\\site-packages (from click->nltk<4.0.0,>=3.6.2->rake-nltk) (0.4.6)\n",
      "Installing collected packages: rake-nltk\n",
      "Successfully installed rake-nltk-1.0.6\n",
      "Note: you may need to restart the kernel to use updated packages.\n"
     ]
    }
   ],
   "source": [
    "pip install rake-nltk"
   ]
  },
  {
   "cell_type": "code",
   "execution_count": 2,
   "id": "7b0b4185",
   "metadata": {},
   "outputs": [
    {
     "name": "stderr",
     "output_type": "stream",
     "text": [
      "[nltk_data] Downloading package stopwords to C:\\Users\\Dr. Vikash\n",
      "[nltk_data]     Thada\\AppData\\Roaming\\nltk_data...\n",
      "[nltk_data]   Unzipping corpora\\stopwords.zip.\n",
      "[nltk_data] Downloading package punkt to C:\\Users\\Dr. Vikash\n",
      "[nltk_data]     Thada\\AppData\\Roaming\\nltk_data...\n",
      "[nltk_data]   Package punkt is already up-to-date!\n"
     ]
    },
    {
     "data": {
      "text/plain": [
       "True"
      ]
     },
     "execution_count": 2,
     "metadata": {},
     "output_type": "execute_result"
    }
   ],
   "source": [
    "from rake_nltk import Rake\n",
    "import nltk\n",
    "nltk.download('stopwords')\n",
    "nltk.download('punkt')"
   ]
  },
  {
   "cell_type": "code",
   "execution_count": 4,
   "id": "3d6e6223",
   "metadata": {},
   "outputs": [
    {
     "name": "stdout",
     "output_type": "stream",
     "text": [
      "['‘ delhi', 'entire state', 'delhi metro', 'delhi police', 'various farmer', 'started marching']\n"
     ]
    }
   ],
   "source": [
    "rake = Rake()\n",
    "summary = \"\"\"\n",
    "Protesting farmers of various farmer unions on Wednesday continued their protest and started \n",
    "marching towards the national capital . Delhi Police deployed at the borders are as of now \n",
    "guarding the borders and ensuring the maintenance of law and order amid the farmers' ‘Delhi chalo’ call .\n",
    "A state of high alert has been declared in Punjab, with approximately 70% of the entire state police force \n",
    "instructed to remain on duty in the field . The Delhi Metro regulated passengers' entry and exit at nine \n",
    "stations by shutting some gates for several hours\n",
    "\"\"\"\n",
    "rake.extract_keywords_from_text(summary)\n",
    "keywordList=[]\n",
    "rankedList=rake.get_ranked_phrases_with_scores()\n",
    "for keyword in rankedList:\n",
    "    keyword_updated=keyword[1].split()\n",
    "      keyword_updated_string=\" \".join(keyword_updated[:2])\n",
    "      keywordList.append(keyword_updated_string)\n",
    "      if(len(keywordList)>5):\n",
    "        break\n",
    "print(keywordList)"
   ]
  },
  {
   "cell_type": "code",
   "execution_count": 6,
   "id": "8f5adde8",
   "metadata": {},
   "outputs": [
    {
     "name": "stdout",
     "output_type": "stream",
     "text": [
      "Defaulting to user installation because normal site-packages is not writeable\n",
      "Collecting yake\n",
      "  Downloading yake-0.4.8-py2.py3-none-any.whl (60 kB)\n",
      "     ---------------------------------------- 0.0/60.2 kB ? eta -:--:--\n",
      "     ------------------- ------------------ 30.7/60.2 kB 660.6 kB/s eta 0:00:01\n",
      "     -------------------------------------- 60.2/60.2 kB 531.1 kB/s eta 0:00:00\n",
      "Requirement already satisfied: tabulate in c:\\programdata\\anaconda3\\lib\\site-packages (from yake) (0.8.10)\n",
      "Requirement already satisfied: click>=6.0 in c:\\programdata\\anaconda3\\lib\\site-packages (from yake) (8.0.4)\n",
      "Requirement already satisfied: numpy in c:\\programdata\\anaconda3\\lib\\site-packages (from yake) (1.24.3)\n",
      "Collecting segtok (from yake)\n",
      "  Downloading segtok-1.5.11-py3-none-any.whl (24 kB)\n",
      "Requirement already satisfied: networkx in c:\\programdata\\anaconda3\\lib\\site-packages (from yake) (3.1)\n",
      "Requirement already satisfied: jellyfish in c:\\programdata\\anaconda3\\lib\\site-packages (from yake) (1.0.1)\n",
      "Requirement already satisfied: colorama in c:\\programdata\\anaconda3\\lib\\site-packages (from click>=6.0->yake) (0.4.6)\n",
      "Requirement already satisfied: regex in c:\\programdata\\anaconda3\\lib\\site-packages (from segtok->yake) (2022.7.9)\n",
      "Installing collected packages: segtok, yake\n",
      "Successfully installed segtok-1.5.11 yake-0.4.8\n",
      "Note: you may need to restart the kernel to use updated packages.\n"
     ]
    },
    {
     "name": "stderr",
     "output_type": "stream",
     "text": [
      "  WARNING: The scripts segmenter.exe and tokenizer.exe are installed in 'C:\\Users\\Dr. Vikash Thada\\AppData\\Roaming\\Python\\Python311\\Scripts' which is not on PATH.\n",
      "  Consider adding this directory to PATH or, if you prefer to suppress this warning, use --no-warn-script-location.\n",
      "  WARNING: The script yake.exe is installed in 'C:\\Users\\Dr. Vikash Thada\\AppData\\Roaming\\Python\\Python311\\Scripts' which is not on PATH.\n",
      "  Consider adding this directory to PATH or, if you prefer to suppress this warning, use --no-warn-script-location.\n"
     ]
    }
   ],
   "source": [
    "pip install yake"
   ]
  },
  {
   "cell_type": "code",
   "execution_count": 1,
   "id": "4fa8ad6f",
   "metadata": {},
   "outputs": [
    {
     "data": {
      "text/plain": [
       "[('Delhi Metro regulated', 0.0002001550894216146),\n",
       " ('Delhi Police deployed', 0.00025899242852297),\n",
       " ('Delhi chalo’ call', 0.0002799640250817581),\n",
       " (\"Metro regulated passengers'\", 0.00032746983472227903),\n",
       " ('police force instructed', 0.0004238955975407202),\n",
       " ('state police force', 0.00043695518453351775),\n",
       " ('entire state police', 0.00043695518453351785),\n",
       " (\"regulated passengers' entry\", 0.0005582232236412204),\n",
       " ('Delhi Metro', 0.002427684148567061),\n",
       " ('Delhi Police', 0.0031380172271061714),\n",
       " ('declared in Punjab', 0.003377255879903174),\n",
       " ('unions on Wednesday', 0.003962449329304538),\n",
       " ('Wednesday continued', 0.003962449329304538),\n",
       " ('Metro regulated', 0.003962449329304538),\n",
       " ('Delhi chalo’', 0.004124163649175365),\n",
       " ('Police deployed', 0.005124145597974141),\n",
       " ('police force', 0.005124145597974141),\n",
       " ('state police', 0.00528104544069879),\n",
       " ('national capital', 0.005537873471570118),\n",
       " (\"amid the farmers'\", 0.005537873471570118)]"
      ]
     },
     "execution_count": 1,
     "metadata": {},
     "output_type": "execute_result"
    }
   ],
   "source": [
    "import yake\n",
    "summary = \"\"\"\n",
    "Protesting farmers of various farmer unions on Wednesday continued their protest and started \n",
    "marching towards the national capital . Delhi Police deployed at the borders are as of now \n",
    "guarding the borders and ensuring the maintenance of law and order amid the farmers' ‘Delhi chalo’ call .\n",
    "A state of high alert has been declared in Punjab, with approximately 70% of the entire state police force \n",
    "instructed to remain on duty in the field . The Delhi Metro regulated passengers' entry and exit at nine \n",
    "stations by shutting some gates for several hours\n",
    "\"\"\"\n",
    "keyword_extractor = yake.KeywordExtractor()\n",
    "keywords = keyword_extractor.extract_keywords(summary)\n",
    "keywords\n",
    "# for kw in keywords:\n",
    "#     print(kw[0])"
   ]
  },
  {
   "cell_type": "markdown",
   "id": "3324fc2c",
   "metadata": {},
   "source": [
    "note to myself- yake giving better results than rake,but is too much detailed,gives repeated keywords"
   ]
  }
 ],
 "metadata": {
  "kernelspec": {
   "display_name": "Python 3 (ipykernel)",
   "language": "python",
   "name": "python3"
  },
  "language_info": {
   "codemirror_mode": {
    "name": "ipython",
    "version": 3
   },
   "file_extension": ".py",
   "mimetype": "text/x-python",
   "name": "python",
   "nbconvert_exporter": "python",
   "pygments_lexer": "ipython3",
   "version": "3.11.5"
  }
 },
 "nbformat": 4,
 "nbformat_minor": 5
}
