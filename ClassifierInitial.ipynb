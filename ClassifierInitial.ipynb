{
 "cells": [
  {
   "cell_type": "code",
   "execution_count": 1,
   "id": "7ccefa3d",
   "metadata": {},
   "outputs": [],
   "source": [
    "from sklearn.model_selection import train_test_split\n",
    "from sklearn.feature_extraction.text import CountVectorizer\n",
    "from sklearn.svm import SVC\n",
    "from sklearn.naive_bayes import MultinomialNB\n",
    "from sklearn.metrics import accuracy_score, classification_report\n",
    "import nltk\n",
    "import numpy as np\n",
    "import pandas as pd\n",
    "from nltk import pos_tag, ne_chunk\n",
    "from nltk.tokenize import word_tokenize\n",
    "from sklearn.preprocessing import LabelEncoder"
   ]
  },
  {
   "cell_type": "code",
   "execution_count": 2,
   "id": "43f5634f",
   "metadata": {},
   "outputs": [
    {
     "data": {
      "text/html": [
       "<div>\n",
       "<style scoped>\n",
       "    .dataframe tbody tr th:only-of-type {\n",
       "        vertical-align: middle;\n",
       "    }\n",
       "\n",
       "    .dataframe tbody tr th {\n",
       "        vertical-align: top;\n",
       "    }\n",
       "\n",
       "    .dataframe thead th {\n",
       "        text-align: right;\n",
       "    }\n",
       "</style>\n",
       "<table border=\"1\" class=\"dataframe\">\n",
       "  <thead>\n",
       "    <tr style=\"text-align: right;\">\n",
       "      <th></th>\n",
       "      <th>link</th>\n",
       "      <th>headline</th>\n",
       "      <th>category</th>\n",
       "      <th>short_description</th>\n",
       "      <th>authors</th>\n",
       "      <th>date</th>\n",
       "    </tr>\n",
       "  </thead>\n",
       "  <tbody>\n",
       "    <tr>\n",
       "      <th>0</th>\n",
       "      <td>https://www.huffpost.com/entry/covid-boosters-...</td>\n",
       "      <td>Over 4 Million Americans Roll Up Sleeves For O...</td>\n",
       "      <td>U.S. NEWS</td>\n",
       "      <td>Health experts said it is too early to predict...</td>\n",
       "      <td>Carla K. Johnson, AP</td>\n",
       "      <td>2022-09-23</td>\n",
       "    </tr>\n",
       "    <tr>\n",
       "      <th>1</th>\n",
       "      <td>https://www.huffpost.com/entry/american-airlin...</td>\n",
       "      <td>American Airlines Flyer Charged, Banned For Li...</td>\n",
       "      <td>U.S. NEWS</td>\n",
       "      <td>He was subdued by passengers and crew when he ...</td>\n",
       "      <td>Mary Papenfuss</td>\n",
       "      <td>2022-09-23</td>\n",
       "    </tr>\n",
       "    <tr>\n",
       "      <th>2</th>\n",
       "      <td>https://www.huffpost.com/entry/funniest-tweets...</td>\n",
       "      <td>23 Of The Funniest Tweets About Cats And Dogs ...</td>\n",
       "      <td>COMEDY</td>\n",
       "      <td>\"Until you have a dog you don't understand wha...</td>\n",
       "      <td>Elyse Wanshel</td>\n",
       "      <td>2022-09-23</td>\n",
       "    </tr>\n",
       "    <tr>\n",
       "      <th>3</th>\n",
       "      <td>https://www.huffpost.com/entry/funniest-parent...</td>\n",
       "      <td>The Funniest Tweets From Parents This Week (Se...</td>\n",
       "      <td>PARENTING</td>\n",
       "      <td>\"Accidentally put grown-up toothpaste on my to...</td>\n",
       "      <td>Caroline Bologna</td>\n",
       "      <td>2022-09-23</td>\n",
       "    </tr>\n",
       "    <tr>\n",
       "      <th>4</th>\n",
       "      <td>https://www.huffpost.com/entry/amy-cooper-lose...</td>\n",
       "      <td>Woman Who Called Cops On Black Bird-Watcher Lo...</td>\n",
       "      <td>U.S. NEWS</td>\n",
       "      <td>Amy Cooper accused investment firm Franklin Te...</td>\n",
       "      <td>Nina Golgowski</td>\n",
       "      <td>2022-09-22</td>\n",
       "    </tr>\n",
       "  </tbody>\n",
       "</table>\n",
       "</div>"
      ],
      "text/plain": [
       "                                                link  \\\n",
       "0  https://www.huffpost.com/entry/covid-boosters-...   \n",
       "1  https://www.huffpost.com/entry/american-airlin...   \n",
       "2  https://www.huffpost.com/entry/funniest-tweets...   \n",
       "3  https://www.huffpost.com/entry/funniest-parent...   \n",
       "4  https://www.huffpost.com/entry/amy-cooper-lose...   \n",
       "\n",
       "                                            headline   category  \\\n",
       "0  Over 4 Million Americans Roll Up Sleeves For O...  U.S. NEWS   \n",
       "1  American Airlines Flyer Charged, Banned For Li...  U.S. NEWS   \n",
       "2  23 Of The Funniest Tweets About Cats And Dogs ...     COMEDY   \n",
       "3  The Funniest Tweets From Parents This Week (Se...  PARENTING   \n",
       "4  Woman Who Called Cops On Black Bird-Watcher Lo...  U.S. NEWS   \n",
       "\n",
       "                                   short_description               authors  \\\n",
       "0  Health experts said it is too early to predict...  Carla K. Johnson, AP   \n",
       "1  He was subdued by passengers and crew when he ...        Mary Papenfuss   \n",
       "2  \"Until you have a dog you don't understand wha...         Elyse Wanshel   \n",
       "3  \"Accidentally put grown-up toothpaste on my to...      Caroline Bologna   \n",
       "4  Amy Cooper accused investment firm Franklin Te...        Nina Golgowski   \n",
       "\n",
       "        date  \n",
       "0 2022-09-23  \n",
       "1 2022-09-23  \n",
       "2 2022-09-23  \n",
       "3 2022-09-23  \n",
       "4 2022-09-22  "
      ]
     },
     "execution_count": 2,
     "metadata": {},
     "output_type": "execute_result"
    }
   ],
   "source": [
    "df=pd.read_json('News_Category_Dataset_v3.json',lines=True)\n",
    "df.head(5)"
   ]
  },
  {
   "cell_type": "code",
   "execution_count": 3,
   "id": "ea4ce0a9",
   "metadata": {},
   "outputs": [],
   "source": [
    "df.dropna(inplace=True)\n",
    "df=df.drop(['date','link','authors'],axis=1)"
   ]
  },
  {
   "cell_type": "code",
   "execution_count": 4,
   "id": "c764ac01",
   "metadata": {},
   "outputs": [
    {
     "name": "stdout",
     "output_type": "stream",
     "text": [
      "<class 'pandas.core.frame.DataFrame'>\n",
      "RangeIndex: 209527 entries, 0 to 209526\n",
      "Data columns (total 3 columns):\n",
      " #   Column             Non-Null Count   Dtype \n",
      "---  ------             --------------   ----- \n",
      " 0   headline           209527 non-null  object\n",
      " 1   category           209527 non-null  object\n",
      " 2   short_description  209527 non-null  object\n",
      "dtypes: object(3)\n",
      "memory usage: 4.8+ MB\n"
     ]
    }
   ],
   "source": [
    "df.info()"
   ]
  },
  {
   "cell_type": "code",
   "execution_count": 5,
   "id": "ce162796",
   "metadata": {},
   "outputs": [
    {
     "data": {
      "text/plain": [
       "headline             0\n",
       "category             0\n",
       "short_description    0\n",
       "dtype: int64"
      ]
     },
     "execution_count": 5,
     "metadata": {},
     "output_type": "execute_result"
    }
   ],
   "source": [
    "df.isnull().sum()"
   ]
  },
  {
   "cell_type": "code",
   "execution_count": 6,
   "id": "55d51dbe",
   "metadata": {},
   "outputs": [],
   "source": [
    "df['namecategory']=df['category']"
   ]
  },
  {
   "cell_type": "code",
   "execution_count": 7,
   "id": "d7bc8077",
   "metadata": {},
   "outputs": [],
   "source": [
    "df['short_description']=df['short_description'].apply(lambda x:x.lower())\n"
   ]
  },
  {
   "cell_type": "code",
   "execution_count": 8,
   "id": "7bde330d",
   "metadata": {},
   "outputs": [
    {
     "data": {
      "text/plain": [
       "42"
      ]
     },
     "execution_count": 8,
     "metadata": {},
     "output_type": "execute_result"
    }
   ],
   "source": [
    "len(df['category'].unique())"
   ]
  },
  {
   "cell_type": "code",
   "execution_count": null,
   "id": "2e616d03",
   "metadata": {},
   "outputs": [],
   "source": []
  },
  {
   "cell_type": "code",
   "execution_count": 9,
   "id": "0f7f0866",
   "metadata": {},
   "outputs": [],
   "source": [
    "# df=df[:20000]"
   ]
  },
  {
   "cell_type": "code",
   "execution_count": 10,
   "id": "0da1313f",
   "metadata": {},
   "outputs": [],
   "source": [
    "from nltk.stem.porter import PorterStemmer\n",
    "ps=PorterStemmer()"
   ]
  },
  {
   "cell_type": "code",
   "execution_count": 11,
   "id": "7c891418",
   "metadata": {},
   "outputs": [
    {
     "data": {
      "text/plain": [
       "0         U.S. NEWS\n",
       "1         U.S. NEWS\n",
       "2            COMEDY\n",
       "3         PARENTING\n",
       "4         U.S. NEWS\n",
       "            ...    \n",
       "209522         TECH\n",
       "209523       SPORTS\n",
       "209524       SPORTS\n",
       "209525       SPORTS\n",
       "209526       SPORTS\n",
       "Name: category, Length: 209527, dtype: object"
      ]
     },
     "execution_count": 11,
     "metadata": {},
     "output_type": "execute_result"
    }
   ],
   "source": [
    "df['category']"
   ]
  },
  {
   "cell_type": "code",
   "execution_count": 12,
   "id": "9b6a1d90",
   "metadata": {},
   "outputs": [],
   "source": [
    "def stem(text):\n",
    "    l=[]\n",
    "    for i in text.split():\n",
    "        l.append(ps.stem(i))\n",
    "    return \"\".join(l)"
   ]
  },
  {
   "cell_type": "code",
   "execution_count": 13,
   "id": "80e4d0f5",
   "metadata": {},
   "outputs": [
    {
     "data": {
      "text/html": [
       "<div>\n",
       "<style scoped>\n",
       "    .dataframe tbody tr th:only-of-type {\n",
       "        vertical-align: middle;\n",
       "    }\n",
       "\n",
       "    .dataframe tbody tr th {\n",
       "        vertical-align: top;\n",
       "    }\n",
       "\n",
       "    .dataframe thead th {\n",
       "        text-align: right;\n",
       "    }\n",
       "</style>\n",
       "<table border=\"1\" class=\"dataframe\">\n",
       "  <thead>\n",
       "    <tr style=\"text-align: right;\">\n",
       "      <th></th>\n",
       "      <th>headline</th>\n",
       "      <th>category</th>\n",
       "      <th>short_description</th>\n",
       "      <th>namecategory</th>\n",
       "    </tr>\n",
       "  </thead>\n",
       "  <tbody>\n",
       "    <tr>\n",
       "      <th>0</th>\n",
       "      <td>Over 4 Million Americans Roll Up Sleeves For O...</td>\n",
       "      <td>U.S. NEWS</td>\n",
       "      <td>health experts said it is too early to predict...</td>\n",
       "      <td>U.S. NEWS</td>\n",
       "    </tr>\n",
       "    <tr>\n",
       "      <th>1</th>\n",
       "      <td>American Airlines Flyer Charged, Banned For Li...</td>\n",
       "      <td>U.S. NEWS</td>\n",
       "      <td>he was subdued by passengers and crew when he ...</td>\n",
       "      <td>U.S. NEWS</td>\n",
       "    </tr>\n",
       "    <tr>\n",
       "      <th>2</th>\n",
       "      <td>23 Of The Funniest Tweets About Cats And Dogs ...</td>\n",
       "      <td>COMEDY</td>\n",
       "      <td>\"until you have a dog you don't understand wha...</td>\n",
       "      <td>COMEDY</td>\n",
       "    </tr>\n",
       "    <tr>\n",
       "      <th>3</th>\n",
       "      <td>The Funniest Tweets From Parents This Week (Se...</td>\n",
       "      <td>PARENTING</td>\n",
       "      <td>\"accidentally put grown-up toothpaste on my to...</td>\n",
       "      <td>PARENTING</td>\n",
       "    </tr>\n",
       "    <tr>\n",
       "      <th>4</th>\n",
       "      <td>Woman Who Called Cops On Black Bird-Watcher Lo...</td>\n",
       "      <td>U.S. NEWS</td>\n",
       "      <td>amy cooper accused investment firm franklin te...</td>\n",
       "      <td>U.S. NEWS</td>\n",
       "    </tr>\n",
       "  </tbody>\n",
       "</table>\n",
       "</div>"
      ],
      "text/plain": [
       "                                            headline   category  \\\n",
       "0  Over 4 Million Americans Roll Up Sleeves For O...  U.S. NEWS   \n",
       "1  American Airlines Flyer Charged, Banned For Li...  U.S. NEWS   \n",
       "2  23 Of The Funniest Tweets About Cats And Dogs ...     COMEDY   \n",
       "3  The Funniest Tweets From Parents This Week (Se...  PARENTING   \n",
       "4  Woman Who Called Cops On Black Bird-Watcher Lo...  U.S. NEWS   \n",
       "\n",
       "                                   short_description namecategory  \n",
       "0  health experts said it is too early to predict...    U.S. NEWS  \n",
       "1  he was subdued by passengers and crew when he ...    U.S. NEWS  \n",
       "2  \"until you have a dog you don't understand wha...       COMEDY  \n",
       "3  \"accidentally put grown-up toothpaste on my to...    PARENTING  \n",
       "4  amy cooper accused investment firm franklin te...    U.S. NEWS  "
      ]
     },
     "execution_count": 13,
     "metadata": {},
     "output_type": "execute_result"
    }
   ],
   "source": [
    "df['category'].apply(stem)\n",
    "df.head()"
   ]
  },
  {
   "cell_type": "code",
   "execution_count": 14,
   "id": "bf39a7c6",
   "metadata": {},
   "outputs": [],
   "source": [
    "# label_encoder = LabelEncoder()\n",
    "# encoded_labels = label_encoder.fit_transform(df['category'])\n",
    "# df['category'] =encoded_labels\n",
    "# # decoded_labels = label_encoder.inverse_transform(df['category'])\n",
    "# # decoded_labels\n",
    "# label_mapping = {label: original_label for label, original_label in zip(range(len(label_encoder.classes_)), label_encoder.classes_)}\n",
    "# decoded_labels = [label_mapping[label] for label in encoded_labels]\n",
    "# decoded_labels"
   ]
  },
  {
   "cell_type": "code",
   "execution_count": 15,
   "id": "f661f920",
   "metadata": {},
   "outputs": [],
   "source": [
    "sorted_df=df.sort_values(by='category')  # default ascending=True\n",
    "sequence=sorted_df['namecategory'].unique()"
   ]
  },
  {
   "cell_type": "code",
   "execution_count": 16,
   "id": "a0a44b60",
   "metadata": {},
   "outputs": [],
   "source": [
    "X_train, X_test, y_train, y_test = train_test_split(df['headline'], df['category'], test_size=0.15, random_state=42)"
   ]
  },
  {
   "cell_type": "code",
   "execution_count": 17,
   "id": "15ed4c3f",
   "metadata": {},
   "outputs": [],
   "source": [
    "vectorizer = CountVectorizer()\n",
    "X_train_bow = vectorizer.fit_transform(X_train)\n",
    "X_test_bow = vectorizer.transform(X_test)"
   ]
  },
  {
   "cell_type": "code",
   "execution_count": 18,
   "id": "c5afa586",
   "metadata": {},
   "outputs": [
    {
     "data": {
      "text/html": [
       "<style>#sk-container-id-1 {color: black;}#sk-container-id-1 pre{padding: 0;}#sk-container-id-1 div.sk-toggleable {background-color: white;}#sk-container-id-1 label.sk-toggleable__label {cursor: pointer;display: block;width: 100%;margin-bottom: 0;padding: 0.3em;box-sizing: border-box;text-align: center;}#sk-container-id-1 label.sk-toggleable__label-arrow:before {content: \"▸\";float: left;margin-right: 0.25em;color: #696969;}#sk-container-id-1 label.sk-toggleable__label-arrow:hover:before {color: black;}#sk-container-id-1 div.sk-estimator:hover label.sk-toggleable__label-arrow:before {color: black;}#sk-container-id-1 div.sk-toggleable__content {max-height: 0;max-width: 0;overflow: hidden;text-align: left;background-color: #f0f8ff;}#sk-container-id-1 div.sk-toggleable__content pre {margin: 0.2em;color: black;border-radius: 0.25em;background-color: #f0f8ff;}#sk-container-id-1 input.sk-toggleable__control:checked~div.sk-toggleable__content {max-height: 200px;max-width: 100%;overflow: auto;}#sk-container-id-1 input.sk-toggleable__control:checked~label.sk-toggleable__label-arrow:before {content: \"▾\";}#sk-container-id-1 div.sk-estimator input.sk-toggleable__control:checked~label.sk-toggleable__label {background-color: #d4ebff;}#sk-container-id-1 div.sk-label input.sk-toggleable__control:checked~label.sk-toggleable__label {background-color: #d4ebff;}#sk-container-id-1 input.sk-hidden--visually {border: 0;clip: rect(1px 1px 1px 1px);clip: rect(1px, 1px, 1px, 1px);height: 1px;margin: -1px;overflow: hidden;padding: 0;position: absolute;width: 1px;}#sk-container-id-1 div.sk-estimator {font-family: monospace;background-color: #f0f8ff;border: 1px dotted black;border-radius: 0.25em;box-sizing: border-box;margin-bottom: 0.5em;}#sk-container-id-1 div.sk-estimator:hover {background-color: #d4ebff;}#sk-container-id-1 div.sk-parallel-item::after {content: \"\";width: 100%;border-bottom: 1px solid gray;flex-grow: 1;}#sk-container-id-1 div.sk-label:hover label.sk-toggleable__label {background-color: #d4ebff;}#sk-container-id-1 div.sk-serial::before {content: \"\";position: absolute;border-left: 1px solid gray;box-sizing: border-box;top: 0;bottom: 0;left: 50%;z-index: 0;}#sk-container-id-1 div.sk-serial {display: flex;flex-direction: column;align-items: center;background-color: white;padding-right: 0.2em;padding-left: 0.2em;position: relative;}#sk-container-id-1 div.sk-item {position: relative;z-index: 1;}#sk-container-id-1 div.sk-parallel {display: flex;align-items: stretch;justify-content: center;background-color: white;position: relative;}#sk-container-id-1 div.sk-item::before, #sk-container-id-1 div.sk-parallel-item::before {content: \"\";position: absolute;border-left: 1px solid gray;box-sizing: border-box;top: 0;bottom: 0;left: 50%;z-index: -1;}#sk-container-id-1 div.sk-parallel-item {display: flex;flex-direction: column;z-index: 1;position: relative;background-color: white;}#sk-container-id-1 div.sk-parallel-item:first-child::after {align-self: flex-end;width: 50%;}#sk-container-id-1 div.sk-parallel-item:last-child::after {align-self: flex-start;width: 50%;}#sk-container-id-1 div.sk-parallel-item:only-child::after {width: 0;}#sk-container-id-1 div.sk-dashed-wrapped {border: 1px dashed gray;margin: 0 0.4em 0.5em 0.4em;box-sizing: border-box;padding-bottom: 0.4em;background-color: white;}#sk-container-id-1 div.sk-label label {font-family: monospace;font-weight: bold;display: inline-block;line-height: 1.2em;}#sk-container-id-1 div.sk-label-container {text-align: center;}#sk-container-id-1 div.sk-container {/* jupyter's `normalize.less` sets `[hidden] { display: none; }` but bootstrap.min.css set `[hidden] { display: none !important; }` so we also need the `!important` here to be able to override the default hidden behavior on the sphinx rendered scikit-learn.org. See: https://github.com/scikit-learn/scikit-learn/issues/21755 */display: inline-block !important;position: relative;}#sk-container-id-1 div.sk-text-repr-fallback {display: none;}</style><div id=\"sk-container-id-1\" class=\"sk-top-container\"><div class=\"sk-text-repr-fallback\"><pre>MultinomialNB()</pre><b>In a Jupyter environment, please rerun this cell to show the HTML representation or trust the notebook. <br />On GitHub, the HTML representation is unable to render, please try loading this page with nbviewer.org.</b></div><div class=\"sk-container\" hidden><div class=\"sk-item\"><div class=\"sk-estimator sk-toggleable\"><input class=\"sk-toggleable__control sk-hidden--visually\" id=\"sk-estimator-id-1\" type=\"checkbox\" checked><label for=\"sk-estimator-id-1\" class=\"sk-toggleable__label sk-toggleable__label-arrow\">MultinomialNB</label><div class=\"sk-toggleable__content\"><pre>MultinomialNB()</pre></div></div></div></div></div>"
      ],
      "text/plain": [
       "MultinomialNB()"
      ]
     },
     "execution_count": 18,
     "metadata": {},
     "output_type": "execute_result"
    }
   ],
   "source": [
    "# svm_classifier_bow = SVC()\n",
    "nb_classifier_bow = MultinomialNB()\n",
    "\n",
    "# svm_classifier_bow.fit(X_train_bow, y_train)\n",
    "nb_classifier_bow.fit(X_train_bow, y_train)"
   ]
  },
  {
   "cell_type": "code",
   "execution_count": 19,
   "id": "24e3233d",
   "metadata": {},
   "outputs": [
    {
     "name": "stdout",
     "output_type": "stream",
     "text": [
      "Naive Bayes Results:\n",
      "                precision    recall  f1-score   support\n",
      "\n",
      "          ARTS       0.78      0.03      0.06       227\n",
      "ARTS & CULTURE       0.25      0.00      0.01       208\n",
      "  BLACK VOICES       0.62      0.17      0.27       702\n",
      "      BUSINESS       0.58      0.29      0.39       925\n",
      "       COLLEGE       1.00      0.01      0.01       155\n",
      "        COMEDY       0.61      0.24      0.34       757\n",
      "         CRIME       0.49      0.53      0.51       535\n",
      "CULTURE & ARTS       0.92      0.07      0.13       157\n",
      "       DIVORCE       0.91      0.40      0.56       502\n",
      "     EDUCATION       0.50      0.01      0.01       154\n",
      " ENTERTAINMENT       0.46      0.80      0.59      2558\n",
      "   ENVIRONMENT       0.89      0.03      0.07       230\n",
      "         FIFTY       0.00      0.00      1.00       192\n",
      "  FOOD & DRINK       0.66      0.64      0.65       965\n",
      "     GOOD NEWS       0.50      0.02      0.05       208\n",
      "         GREEN       0.37      0.07      0.12       399\n",
      "HEALTHY LIVING       0.36      0.05      0.09       984\n",
      " HOME & LIVING       0.80      0.55      0.65       665\n",
      "        IMPACT       0.44      0.06      0.11       506\n",
      " LATINO VOICES       0.60      0.02      0.03       174\n",
      "         MEDIA       0.79      0.16      0.26       451\n",
      "         MONEY       0.69      0.04      0.08       257\n",
      "     PARENTING       0.45      0.58      0.51      1332\n",
      "       PARENTS       0.68      0.06      0.12       590\n",
      "      POLITICS       0.51      0.93      0.66      5324\n",
      "  QUEER VOICES       0.68      0.47      0.56       940\n",
      "      RELIGION       0.77      0.12      0.20       400\n",
      "       SCIENCE       0.80      0.24      0.37       320\n",
      "        SPORTS       0.73      0.52      0.61       770\n",
      "         STYLE       0.67      0.01      0.01       345\n",
      "STYLE & BEAUTY       0.63      0.78      0.70      1515\n",
      "         TASTE       0.83      0.02      0.03       320\n",
      "          TECH       0.84      0.18      0.29       293\n",
      " THE WORLDPOST       0.46      0.34      0.39       545\n",
      "        TRAVEL       0.60      0.74      0.66      1544\n",
      "     U.S. NEWS       0.50      0.01      0.01       200\n",
      "      WEDDINGS       0.84      0.45      0.58       519\n",
      "    WEIRD NEWS       0.47      0.10      0.16       411\n",
      "      WELLNESS       0.41      0.83      0.55      2746\n",
      "         WOMEN       0.64      0.09      0.16       525\n",
      "    WORLD NEWS       0.52      0.20      0.29       476\n",
      "     WORLDPOST       0.64      0.04      0.08       404\n",
      "\n",
      "      accuracy                           0.52     31430\n",
      "     macro avg       0.62      0.26      0.31     31430\n",
      "  weighted avg       0.57      0.52      0.46     31430\n",
      "\n"
     ]
    }
   ],
   "source": [
    "# y_pred_svm = svm_classifier_bow.predict(vectorizer.transform(X_test))\n",
    "y_pred_nb = nb_classifier_bow.predict(vectorizer.transform(X_test))\n",
    "\n",
    "# print(\"SVM Results:\")\n",
    "# print(classification_report(y_test, y_pred_svm, zero_division=1))\n",
    "\n",
    "print(\"Naive Bayes Results:\")\n",
    "print(classification_report(y_test, y_pred_nb, zero_division=1))"
   ]
  },
  {
   "cell_type": "code",
   "execution_count": 20,
   "id": "9a9431a5",
   "metadata": {},
   "outputs": [],
   "source": [
    "# y_test\n",
    "# sequence=df['category'].unique()\n",
    "# print(sequence[y_pred_nb[0]-1])"
   ]
  },
  {
   "cell_type": "code",
   "execution_count": 21,
   "id": "370ecc67",
   "metadata": {},
   "outputs": [
    {
     "data": {
      "text/plain": [
       "'WELLNESS'"
      ]
     },
     "execution_count": 21,
     "metadata": {},
     "output_type": "execute_result"
    }
   ],
   "source": [
    "y_pred1 = nb_classifier_bow.predict(vectorizer.transform(['''\n",
    "At its essence, physics seeks to elucidate the nature of matter, energy, space, and time\n",
    "''']))\n",
    "y_pred1[0]"
   ]
  },
  {
   "cell_type": "code",
   "execution_count": 28,
   "id": "528ee3cf",
   "metadata": {},
   "outputs": [],
   "source": [
    "import joblib"
   ]
  },
  {
   "cell_type": "code",
   "execution_count": 29,
   "id": "9f1fd88b",
   "metadata": {},
   "outputs": [
    {
     "data": {
      "text/plain": [
       "['NaiveBayes']"
      ]
     },
     "execution_count": 29,
     "metadata": {},
     "output_type": "execute_result"
    }
   ],
   "source": [
    "joblib.dump(vectorizer,'Vectorizer')\n",
    "joblib.dump(nb_classifier_bow,'NaiveBayes')"
   ]
  },
  {
   "cell_type": "code",
   "execution_count": 22,
   "id": "a2f48a7d",
   "metadata": {},
   "outputs": [],
   "source": [
    "# nltk.download('averaged_perceptron_tagger')\n",
    "# def pos_tagging(text):\n",
    "#     words = word_tokenize(text)\n",
    "#     pos_tags = pos_tag(words)\n",
    "#     return ' '.join([tag[1] for tag in pos_tags])\n",
    "\n",
    "\n",
    "# X_train_pos = X_train.apply(pos_tagging)\n",
    "# X_test_pos = X_test.apply(pos_tagging)\n",
    "\n",
    "# # Feature Extraction - Bag of Words (BoW) for POS tags\n",
    "# vectorizer_pos = CountVectorizer()\n",
    "# X_train_pos_bow = vectorizer_pos.fit_transform(X_train_pos)\n",
    "# X_test_pos_bow = vectorizer_pos.transform(X_test_pos)"
   ]
  },
  {
   "cell_type": "code",
   "execution_count": 23,
   "id": "89c331a7",
   "metadata": {},
   "outputs": [],
   "source": [
    "# nltk.download('words')\n",
    "# nltk.download('maxent_ne_chunker')\n",
    "# def named_entities(text):\n",
    "#     words = word_tokenize(text)\n",
    "#     ner_tags = ne_chunk(pos_tag(words))\n",
    "#     return ' '.join([tag.label() for tag in ner_tags if isinstance(tag, nltk.Tree)])\n",
    "\n",
    "# X_train_ner = X_train.apply(named_entities)\n",
    "# X_test_ner = X_test.apply(named_entities)\n",
    "\n",
    "# vectorizer_ner = CountVectorizer()\n",
    "# X_train_ner_bow = vectorizer_pos.fit_transform(X_train_ner)\n",
    "# X_test_ner_bow = vectorizer_pos.transform(X_test_ner)"
   ]
  },
  {
   "cell_type": "code",
   "execution_count": 24,
   "id": "c866bc1a",
   "metadata": {},
   "outputs": [],
   "source": [
    "# # Train models\n",
    "# svm_classifier_ner = SVC()\n",
    "# nb_classifier_ner= MultinomialNB()\n",
    "\n",
    "# svm_classifier_ner.fit(X_train_ner_bow, y_train)\n",
    "# nb_classifier_ner.fit(X_train_ner_bow, y_train)"
   ]
  },
  {
   "cell_type": "code",
   "execution_count": 25,
   "id": "68626710",
   "metadata": {},
   "outputs": [],
   "source": [
    "# X_train_mix =np.concatenate([ X_train_ner_bow.toarray()  , X_train_pos_bow.toarray()] , axis = 1)\n",
    "# X_test_mix = np.concatenate([ X_test_ner_bow.toarray()  , X_test_pos_bow.toarray()] , axis = 1)"
   ]
  },
  {
   "cell_type": "code",
   "execution_count": 26,
   "id": "3db8f073",
   "metadata": {},
   "outputs": [],
   "source": [
    "# svm_classifier_mix = SVC()\n",
    "# nb_classifier_mix = MultinomialNB()\n",
    "\n",
    "# svm_classifier_mix.fit(X_train_mix, y_train)\n",
    "# nb_classifier_mix.fit(X_train_mix, y_train)"
   ]
  },
  {
   "cell_type": "code",
   "execution_count": 27,
   "id": "18f578b5",
   "metadata": {},
   "outputs": [],
   "source": [
    "# # Evaluate models\n",
    "# y_pred_svm = svm_classifier_mix.predict(X_test_mix)\n",
    "# y_pred_nb = nb_classifier_mix.predict(X_test_mix)\n",
    "\n",
    "# print(\"SVM Results:\")\n",
    "# print(classification_report(y_test, y_pred_svm, zero_division=1))\n",
    "\n",
    "# print(\"Naive Bayes Results:\")\n",
    "# print(classification_report(y_test, y_pred_nb, zero_division=1))"
   ]
  },
  {
   "cell_type": "code",
   "execution_count": null,
   "id": "6419e8ce",
   "metadata": {},
   "outputs": [],
   "source": []
  }
 ],
 "metadata": {
  "kernelspec": {
   "display_name": "Python 3 (ipykernel)",
   "language": "python",
   "name": "python3"
  },
  "language_info": {
   "codemirror_mode": {
    "name": "ipython",
    "version": 3
   },
   "file_extension": ".py",
   "mimetype": "text/x-python",
   "name": "python",
   "nbconvert_exporter": "python",
   "pygments_lexer": "ipython3",
   "version": "3.11.5"
  }
 },
 "nbformat": 4,
 "nbformat_minor": 5
}
