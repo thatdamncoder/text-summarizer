{
 "cells": [
  {
   "cell_type": "code",
   "execution_count": 1,
   "id": "432e3c14",
   "metadata": {},
   "outputs": [
    {
     "name": "stdout",
     "output_type": "stream",
     "text": [
      "WARNING:tensorflow:From C:\\Users\\Dr. Vikash Thada\\AppData\\Roaming\\Python\\Python311\\site-packages\\keras\\src\\losses.py:2976: The name tf.losses.sparse_softmax_cross_entropy is deprecated. Please use tf.compat.v1.losses.sparse_softmax_cross_entropy instead.\n",
      "\n"
     ]
    },
    {
     "name": "stderr",
     "output_type": "stream",
     "text": [
      "C:\\ProgramData\\anaconda3\\Lib\\site-packages\\transformers\\utils\\generic.py:260: UserWarning: torch.utils._pytree._register_pytree_node is deprecated. Please use torch.utils._pytree.register_pytree_node instead.\n",
      "  torch.utils._pytree._register_pytree_node(\n"
     ]
    }
   ],
   "source": [
    "from transformers import pipeline"
   ]
  },
  {
   "cell_type": "code",
   "execution_count": 3,
   "id": "505d829c",
   "metadata": {},
   "outputs": [
    {
     "name": "stderr",
     "output_type": "stream",
     "text": [
      "No model was supplied, defaulted to sshleifer/distilbart-cnn-12-6 and revision a4f8f3e (https://huggingface.co/sshleifer/distilbart-cnn-12-6).\n",
      "Using a pipeline without specifying a model name and revision in production is not recommended.\n"
     ]
    },
    {
     "data": {
      "application/vnd.jupyter.widget-view+json": {
       "model_id": "f76a4a4f9c2241cd9a3b2e51b8fe7d1e",
       "version_major": 2,
       "version_minor": 0
      },
      "text/plain": [
       "Downloading config.json:   0%|          | 0.00/1.80k [00:00<?, ?B/s]"
      ]
     },
     "metadata": {},
     "output_type": "display_data"
    },
    {
     "name": "stderr",
     "output_type": "stream",
     "text": [
      "C:\\ProgramData\\anaconda3\\Lib\\site-packages\\huggingface_hub\\file_download.py:133: UserWarning: `huggingface_hub` cache-system uses symlinks by default to efficiently store duplicated files but your machine does not support them in C:\\Users\\Dr. Vikash Thada\\.cache\\huggingface\\hub. Caching files will still work but in a degraded version that might require more space on your disk. This warning can be disabled by setting the `HF_HUB_DISABLE_SYMLINKS_WARNING` environment variable. For more details, see https://huggingface.co/docs/huggingface_hub/how-to-cache#limitations.\n",
      "To support symlinks on Windows, you either need to activate Developer Mode or to run Python as an administrator. In order to see activate developer mode, see this article: https://docs.microsoft.com/en-us/windows/apps/get-started/enable-your-device-for-development\n",
      "  warnings.warn(message)\n"
     ]
    },
    {
     "data": {
      "application/vnd.jupyter.widget-view+json": {
       "model_id": "bf0e83bcf7474c79a33415d970ba0583",
       "version_major": 2,
       "version_minor": 0
      },
      "text/plain": [
       "Downloading pytorch_model.bin:   0%|          | 0.00/1.22G [00:00<?, ?B/s]"
      ]
     },
     "metadata": {},
     "output_type": "display_data"
    },
    {
     "data": {
      "application/vnd.jupyter.widget-view+json": {
       "model_id": "28639b22e76a4323ad0afe5fe48c8ec4",
       "version_major": 2,
       "version_minor": 0
      },
      "text/plain": [
       "Downloading tokenizer_config.json:   0%|          | 0.00/26.0 [00:00<?, ?B/s]"
      ]
     },
     "metadata": {},
     "output_type": "display_data"
    },
    {
     "data": {
      "application/vnd.jupyter.widget-view+json": {
       "model_id": "9ba720abd6fa4c08980802c82fbc4f20",
       "version_major": 2,
       "version_minor": 0
      },
      "text/plain": [
       "Downloading vocab.json:   0%|          | 0.00/899k [00:00<?, ?B/s]"
      ]
     },
     "metadata": {},
     "output_type": "display_data"
    },
    {
     "data": {
      "application/vnd.jupyter.widget-view+json": {
       "model_id": "d58b578e269a49548872c2991789f0ba",
       "version_major": 2,
       "version_minor": 0
      },
      "text/plain": [
       "Downloading merges.txt:   0%|          | 0.00/456k [00:00<?, ?B/s]"
      ]
     },
     "metadata": {},
     "output_type": "display_data"
    }
   ],
   "source": [
    "summariser=pipeline('summarization')"
   ]
  },
  {
   "cell_type": "code",
   "execution_count": 4,
   "id": "bf5d7dda",
   "metadata": {},
   "outputs": [],
   "source": [
    "text='''\n",
    "    Protesting farmers of various farmer unions on Wednesday continued their protest and started marching towards the national capital. The Delhi Police deployed at the borders are as of now guarding the borders and ensuring the maintenance of law and order amid the farmers' ‘Delhi chalo’ call.\n",
    "\n",
    "A massive deployment of police and paramilitary personnel besides multi-layered barricading is in place to seal the national capital borders at Singhu, Tikri and Ghazipur.\n",
    "\n",
    "Central Delhi has been put under a heavy security cover with personnel in anti-riot gears deployed strategically and metal and concrete barricades regulating access to several key roads.\n",
    "\n",
    "On Tuesday the Delhi Metro regulated passengers' entry and exit at nine stations by shutting some gates for several hours in view of the farmers' march towards the national capital.\n",
    "\n",
    "Police deployed tear gas to halt thousands of farmers demanding minimum crop prices from advancing towards the capital New Delhi following unsuccessful negotiations with the government. Thick clouds of tear gas were dispersed to scatter protesters at the Shambhu border near Ambala, situated approximately 200 kilometers north of the capital. Additionally, police employed drones to drop tear gas canisters from the air.\n",
    "\n",
    "While the police are not actively impeding the movement of farmers from the state towards Delhi, a state of high alert has been declared in Punjab, with approximately 70% of the entire state police force instructed to remain on duty in the field.\n",
    "\n",
    "Why are farmers protesting and what are their demands?\n",
    "\n",
    "The farmers are staging a large-scale protest to compel the Center to acknowledge their list of demands.\n",
    "The farm organizations are calling for legislation to ensure a minimum support price (MSP), a requirement they had stipulated in 2021 when they consented to end their protest against the now-repealed farm laws.\n",
    "Additionally, the farmers are pressing for the enforcement of the Swaminathan Commission's recommendations, pensions for farmers and agricultural workers, as well as the forgiveness of farm debts.\n",
    "As per the farmers, the Center ought to ensure \"justice\" for the victims of the Lakhimpur Kheri violence.\n",
    "'''"
   ]
  },
  {
   "cell_type": "code",
   "execution_count": 7,
   "id": "84f8d529",
   "metadata": {},
   "outputs": [],
   "source": [
    "summary_response=summariser(text,max_length=200,min_length=100,do_sample=False)"
   ]
  },
  {
   "cell_type": "code",
   "execution_count": 8,
   "id": "bba36549",
   "metadata": {},
   "outputs": [
    {
     "data": {
      "text/plain": [
       "\" Protesting farmers of various farmer unions on Wednesday continued their protest and started marching towards the national capital . Delhi Police deployed at the borders are as of now guarding the borders and ensuring the maintenance of law and order amid the farmers' ‘Delhi chalo’ call . A state of high alert has been declared in Punjab, with approximately 70% of the entire state police force instructed to remain on duty in the field . The Delhi Metro regulated passengers' entry and exit at nine stations by shutting some gates for several hours .\""
      ]
     },
     "execution_count": 8,
     "metadata": {},
     "output_type": "execute_result"
    }
   ],
   "source": [
    "summary_response[0]['summary_text']"
   ]
  },
  {
   "cell_type": "code",
   "execution_count": null,
   "id": "8f67794f",
   "metadata": {},
   "outputs": [],
   "source": []
  }
 ],
 "metadata": {
  "kernelspec": {
   "display_name": "Python 3 (ipykernel)",
   "language": "python",
   "name": "python3"
  },
  "language_info": {
   "codemirror_mode": {
    "name": "ipython",
    "version": 3
   },
   "file_extension": ".py",
   "mimetype": "text/x-python",
   "name": "python",
   "nbconvert_exporter": "python",
   "pygments_lexer": "ipython3",
   "version": "3.11.5"
  }
 },
 "nbformat": 4,
 "nbformat_minor": 5
}
